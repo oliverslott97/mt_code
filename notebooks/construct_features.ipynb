{
 "cells": [
  {
   "cell_type": "code",
   "execution_count": 1,
   "metadata": {},
   "outputs": [
    {
     "name": "stdout",
     "output_type": "stream",
     "text": [
      "Added /Users/oliverslott/Documents/MasterThesis/mt_code/notebooks/.. to sys.path\n"
     ]
    }
   ],
   "source": [
    "# dependencies\n",
    "import sys\n",
    "import os\n",
    "from datetime import datetime\n",
    "import pandas as pd\n",
    "\n",
    "notebook_dir = os.getcwd()\n",
    "project_root = None\n",
    "for parent in [os.path.join(notebook_dir, os.pardir) for _ in range(5)]:\n",
    "    if 'src' in os.listdir(parent):\n",
    "        project_root = parent\n",
    "        break\n",
    "if project_root and project_root not in sys.path:\n",
    "    sys.path.insert(0, project_root)\n",
    "    print(f\"Added {project_root} to sys.path\")\n",
    "\n",
    "# user lib\n",
    "from src.data_processing.data_handler import RVnMacro, IV\n",
    "from src.utilities.utilities import test_make_dir\n"
   ]
  },
  {
   "cell_type": "code",
   "execution_count": 10,
   "metadata": {},
   "outputs": [
    {
     "name": "stdout",
     "output_type": "stream",
     "text": [
      "No tickers specified. Setting default to S&P500 tickers.\n",
      "\n",
      "503 tickers available as of 2024-03-09.\n",
      "Downloading meta data for all tickers. This may take a while...\n",
      "[**********************100%**********************] 514 of 514 completed\n",
      "\n",
      "Downloading google trends for specified sector. This may take a while...\n",
      "[**********************100%**********************]  86 of 86 completed\n",
      "\n",
      "Downloading equity data from Yahoo! Finance. This may take a while...\n",
      "yfinance: download(show_errors=False) argument is deprecated and will be removed in future version. Do this instead to suppress error messages: logging.getLogger('yfinance').setLevel(logging.CRITICAL)\n"
     ]
    },
    {
     "name": "stderr",
     "output_type": "stream",
     "text": [
      "[*********************100%%**********************]  514 of 514 completed\n"
     ]
    },
    {
     "name": "stdout",
     "output_type": "stream",
     "text": [
      "\n",
      "Downloading announcement dates for earnings report from SEC EDGAR. This may take a while...\n",
      "[**********************100%**********************] 503 of 503 completed\n",
      "\n",
      "Downloading data from the US federal reserve economic database (FRED).\n",
      "[**********************100%**********************]   7 of 7 completed"
     ]
    }
   ],
   "source": [
    "query_obj = RVnMacro(start=datetime(2005, 1, 1)).initialize_tickers().query_data()"
   ]
  },
  {
   "cell_type": "code",
   "execution_count": 12,
   "metadata": {},
   "outputs": [
    {
     "name": "stdout",
     "output_type": "stream",
     "text": [
      "\n",
      "\n",
      "Calculating commonality factor for the stock universe.\n",
      "[**********************100%**********************] 514 of 514 completed\n",
      "\n",
      "\n",
      "Columns with disallowed NaNs after the initial sequence: [('Market Commonality', 'AMCR'), ('Sector Commonality', 'AMCR')]\n",
      "Dropping tickers: AMCR\n",
      "\n",
      "\n",
      "Calculating commonality factor for the stock universe.\n",
      "[**********************100%**********************] 514 of 514 completed\n",
      "\n",
      "\n",
      "Columns with disallowed NaNs after the initial sequence: [('Market Commonality', 'AMCR'), ('Sector Commonality', 'AMCR')]\n",
      "Dropping tickers: AMCR\n",
      "\n",
      "\n",
      "Calculating commonality factor for the stock universe.\n",
      "[**********************100%**********************] 514 of 514 completed\n",
      "\n",
      "\n",
      "Columns with disallowed NaNs after the initial sequence: [('Market Commonality', 'AMCR'), ('Sector Commonality', 'AMCR')]\n",
      "Dropping tickers: AMCR\n",
      "\n",
      "\n",
      "Calculating commonality factor for the stock universe.\n",
      "[**********************100%**********************] 514 of 514 completed\n",
      "\n",
      "\n",
      "Columns with disallowed NaNs after the initial sequence: [('Market Commonality', 'AMCR'), ('Sector Commonality', 'AMCR')]\n",
      "Dropping tickers: AMCR\n",
      "\n",
      "\n",
      "Calculating commonality factor for the stock universe.\n",
      "[**********************100%**********************] 514 of 514 completed\n",
      "\n",
      "\n",
      "Columns with disallowed NaNs after the initial sequence: [('Market Commonality', 'AMCR'), ('Sector Commonality', 'AMCR')]\n",
      "Dropping tickers: AMCR\n",
      "\n",
      "\n",
      "Calculating commonality factor for the stock universe.\n",
      "[**********************100%**********************] 514 of 514 completed\n",
      "\n",
      "\n",
      "Columns with disallowed NaNs after the initial sequence: [('Market Commonality', 'AMCR'), ('Sector Commonality', 'AMCR')]\n",
      "Dropping tickers: AMCR\n"
     ]
    }
   ],
   "source": [
    "# create data folder for plots and IV query:\n",
    "plot_data_path = '../data/raw/plot_data'\n",
    "plot_data_dir = test_make_dir(plot_data_path)\n",
    "for freq in ('M', 'W'):\n",
    "    for method in ('CC', 'GK', 'YZ'):\n",
    "        df = query_obj.transform(sample_freq=freq, vol_measure=method)\n",
    "        name = f'all_data_{freq}_{method}.parquet'\n",
    "        full_path = plot_data_dir+f'/{name}'\n",
    "        df.to_parquet(full_path)"
   ]
  },
  {
   "cell_type": "code",
   "execution_count": 2,
   "metadata": {},
   "outputs": [],
   "source": [
    "dividends = pd.read_csv('../data/processed/daily_dividends.csv')\n",
    "rates_M = pd.read_parquet('../data/raw/plot_data/all_data_M_CC.parquet').xs(\n",
    "    'Macro', \n",
    "    axis=1, \n",
    "    level=0\n",
    ")[['US1M', 'US3M', 'US6M']].reset_index(drop=False).rename(columns={'index':'Date'})\n",
    "rates_W = pd.read_parquet('../data/raw/plot_data/all_data_W_CC.parquet').xs(\n",
    "    'Macro', \n",
    "    axis=1, \n",
    "    level=0\n",
    ")[['US1M', 'US3M', 'US6M']].reset_index(drop=False).rename(columns={'index':'Date'})"
   ]
  },
  {
   "cell_type": "code",
   "execution_count": 3,
   "metadata": {},
   "outputs": [],
   "source": [
    "# loading paths from external drive\n",
    "iv_obj_M = IV(rates_M, dividends, 'm').initialize_paths()\n",
    "iv_obj_W = IV(rates_W, dividends, 'w').initialize_paths()"
   ]
  },
  {
   "cell_type": "code",
   "execution_count": 4,
   "metadata": {},
   "outputs": [],
   "source": [
    "# loading data onto local disk from external drive\n",
    "iv_obj_M = iv_obj_M.load_data()\n",
    "iv_obj_W = iv_obj_W.load_data()"
   ]
  },
  {
   "cell_type": "code",
   "execution_count": null,
   "metadata": {},
   "outputs": [],
   "source": []
  }
 ],
 "metadata": {
  "kernelspec": {
   "display_name": "env",
   "language": "python",
   "name": "python3"
  },
  "language_info": {
   "codemirror_mode": {
    "name": "ipython",
    "version": 3
   },
   "file_extension": ".py",
   "mimetype": "text/x-python",
   "name": "python",
   "nbconvert_exporter": "python",
   "pygments_lexer": "ipython3",
   "version": "3.10.7"
  }
 },
 "nbformat": 4,
 "nbformat_minor": 2
}
